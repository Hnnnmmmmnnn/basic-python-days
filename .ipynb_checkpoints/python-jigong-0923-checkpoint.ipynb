{
 "cells": [
  {
   "cell_type": "code",
   "execution_count": null,
   "id": "85c777cc-bcd0-4322-9d65-824829510a4c",
   "metadata": {},
   "outputs": [],
   "source": [
    "# Python编程 从入门到实践 code ch1-ch2 2025-09-23"
   ]
  },
  {
   "cell_type": "code",
   "execution_count": 1,
   "id": "f1f0736e-cd17-40d8-b734-da1b7aa4eee6",
   "metadata": {},
   "outputs": [
    {
     "name": "stdout",
     "output_type": "stream",
     "text": [
      "Ada Love Lace\n"
     ]
    }
   ],
   "source": [
    "name = \"ada love lace\"\n",
    "print(name.title())"
   ]
  },
  {
   "cell_type": "code",
   "execution_count": 2,
   "id": "e00488b8-9b5b-48b4-8b8c-5b728ea74da7",
   "metadata": {},
   "outputs": [
    {
     "name": "stdout",
     "output_type": "stream",
     "text": [
      "Ada Love Lace\n"
     ]
    }
   ],
   "source": [
    "name = name.title()\n",
    "print(name)"
   ]
  },
  {
   "cell_type": "code",
   "execution_count": 3,
   "id": "6c82bc9e-635d-4b55-8e8a-f282b2afcf3a",
   "metadata": {},
   "outputs": [
    {
     "name": "stdout",
     "output_type": "stream",
     "text": [
      "ada love lace\n",
      "ADA LOVE LACE\n"
     ]
    }
   ],
   "source": [
    "print(name.lower())\n",
    "print(name.upper())"
   ]
  },
  {
   "cell_type": "code",
   "execution_count": 5,
   "id": "c55b9d09-4891-483e-b267-189de06beb96",
   "metadata": {},
   "outputs": [
    {
     "name": "stdout",
     "output_type": "stream",
     "text": [
      "ada--lovelace\n"
     ]
    }
   ],
   "source": [
    "first_name = 'ada' \n",
    "last_name = 'lovelace' \n",
    "full_name = f'{first_name}--{last_name}' \n",
    "print(full_name)"
   ]
  },
  {
   "cell_type": "code",
   "execution_count": 6,
   "id": "8115d437-b6ee-4da4-a159-1a0ce1e6f903",
   "metadata": {},
   "outputs": [
    {
     "name": "stdout",
     "output_type": "stream",
     "text": [
      "Hello,Ada--Lovelace!\n"
     ]
    }
   ],
   "source": [
    "print(f\"Hello,{full_name.title()}!\")"
   ]
  },
  {
   "cell_type": "code",
   "execution_count": 7,
   "id": "10db912f-03ec-4b9f-bcdc-9f9e188e9201",
   "metadata": {},
   "outputs": [
    {
     "name": "stdout",
     "output_type": "stream",
     "text": [
      "Hello,Ada--Lovelace!\n"
     ]
    }
   ],
   "source": [
    "message = f'Hello,{full_name.title()}!'\n",
    "print(message)"
   ]
  },
  {
   "cell_type": "code",
   "execution_count": 9,
   "id": "4815803a-9ea0-41df-bd0c-5d3ba30f7cb7",
   "metadata": {},
   "outputs": [
    {
     "name": "stdout",
     "output_type": "stream",
     "text": [
      "Python\n",
      "\tPython\n"
     ]
    }
   ],
   "source": [
    "print(\"Python\")\n",
    "print('\\tPython')"
   ]
  },
  {
   "cell_type": "code",
   "execution_count": 10,
   "id": "3c1f9a20-f30a-4d75-a40e-ee9567d6829f",
   "metadata": {},
   "outputs": [
    {
     "name": "stdout",
     "output_type": "stream",
     "text": [
      "Languages:\n",
      "Python\n",
      "C\n",
      "Javascript\n"
     ]
    }
   ],
   "source": [
    "print('Languages:\\nPython\\nC\\nJavascript')"
   ]
  },
  {
   "cell_type": "code",
   "execution_count": 12,
   "id": "3f988aab-398a-4d94-981b-207fcafae9a1",
   "metadata": {},
   "outputs": [
    {
     "name": "stdout",
     "output_type": "stream",
     "text": [
      "Languages:\n",
      "\tPython\n",
      "\tC\n",
      "\tJavascript\n"
     ]
    }
   ],
   "source": [
    "print('Languages:\\n\\tPython\\n\\tC\\n\\tJavascript')"
   ]
  },
  {
   "cell_type": "code",
   "execution_count": 15,
   "id": "b88053f3-6f54-4537-8cbf-efd85502a51c",
   "metadata": {},
   "outputs": [
    {
     "data": {
      "text/plain": [
       "('Python ', 'Python')"
      ]
     },
     "execution_count": 15,
     "metadata": {},
     "output_type": "execute_result"
    }
   ],
   "source": [
    "favorite_language = 'Python '\n",
    "favorite_language,favorite_language.rstrip()"
   ]
  },
  {
   "cell_type": "code",
   "execution_count": 16,
   "id": "5e030198-d18e-4c03-a587-71ffa1647455",
   "metadata": {},
   "outputs": [
    {
     "data": {
      "text/plain": [
       "(' Python ', ' Python', 'Python ', 'Python')"
      ]
     },
     "execution_count": 16,
     "metadata": {},
     "output_type": "execute_result"
    }
   ],
   "source": [
    "favorite_language = ' Python '\n",
    "favorite_language,favorite_language.rstrip(),favorite_language.lstrip(),favorite_language.strip()"
   ]
  },
  {
   "cell_type": "code",
   "execution_count": 19,
   "id": "b8bba30e-87b9-45f6-9cb3-581d41abadac",
   "metadata": {},
   "outputs": [
    {
     "data": {
      "text/plain": [
       "('baidu.com', 'https://baidu.com', 'https://baidu')"
      ]
     },
     "execution_count": 19,
     "metadata": {},
     "output_type": "execute_result"
    }
   ],
   "source": [
    "baidu_url = 'https://baidu.com'\n",
    "baidu_url.removeprefix('https://'),baidu_url.removeprefix('.com'),baidu_url.removesuffix('.com')"
   ]
  },
  {
   "cell_type": "code",
   "execution_count": 20,
   "id": "052de2c3-6f98-4cfa-bf3d-6c64885bcac2",
   "metadata": {},
   "outputs": [
    {
     "name": "stdout",
     "output_type": "stream",
     "text": [
      "14000000000\n"
     ]
    }
   ],
   "source": [
    "universe_age = 14_000_000_000\n",
    "print(universe_age)"
   ]
  },
  {
   "cell_type": "code",
   "execution_count": 21,
   "id": "156d77f5-4e51-4cf0-9ee3-317ed62af709",
   "metadata": {},
   "outputs": [
    {
     "data": {
      "text/plain": [
       "(9, 8, 7)"
      ]
     },
     "execution_count": 21,
     "metadata": {},
     "output_type": "execute_result"
    }
   ],
   "source": [
    "x,y,z = 9,8,7\n",
    "x,y,z"
   ]
  },
  {
   "cell_type": "code",
   "execution_count": 23,
   "id": "94e7206e-c31e-4285-91ec-98b2eac0d6d3",
   "metadata": {},
   "outputs": [],
   "source": [
    "MAX_CONNECTIONS = 5000"
   ]
  }
 ],
 "metadata": {
  "kernelspec": {
   "display_name": "Python 3 (ipykernel)",
   "language": "python",
   "name": "python3"
  },
  "language_info": {
   "codemirror_mode": {
    "name": "ipython",
    "version": 3
   },
   "file_extension": ".py",
   "mimetype": "text/x-python",
   "name": "python",
   "nbconvert_exporter": "python",
   "pygments_lexer": "ipython3",
   "version": "3.9.21"
  }
 },
 "nbformat": 4,
 "nbformat_minor": 5
}
