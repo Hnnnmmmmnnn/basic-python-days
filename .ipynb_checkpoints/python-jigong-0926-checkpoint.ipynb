{
 "cells": [
  {
   "cell_type": "code",
   "execution_count": 4,
   "id": "83d05b82-f6bc-4ce4-a842-228126a78548",
   "metadata": {},
   "outputs": [
    {
     "name": "stdout",
     "output_type": "stream",
     "text": [
      "PAN\n",
      "Wang\n",
      "Wu\n"
     ]
    }
   ],
   "source": [
    "exports = ['pan','wang','wu']\n",
    "\n",
    "for export in exports:\n",
    "    if export == 'pan':\n",
    "        print(export.upper())\n",
    "    else:\n",
    "        print(export.title())"
   ]
  },
  {
   "cell_type": "code",
   "execution_count": 5,
   "id": "49d6df16-9c96-49d4-8369-1f8cf5168005",
   "metadata": {},
   "outputs": [
    {
     "data": {
      "text/plain": [
       "True"
      ]
     },
     "execution_count": 5,
     "metadata": {},
     "output_type": "execute_result"
    }
   ],
   "source": [
    "car = 'bmw'\n",
    "\n",
    "car == 'bmw'"
   ]
  },
  {
   "cell_type": "code",
   "execution_count": 6,
   "id": "fb551e85-94e8-4e55-96bc-e1336d0f93d8",
   "metadata": {},
   "outputs": [
    {
     "data": {
      "text/plain": [
       "False"
      ]
     },
     "execution_count": 6,
     "metadata": {},
     "output_type": "execute_result"
    }
   ],
   "source": [
    "car = 'bmw'\n",
    "\n",
    "car == 'audi'"
   ]
  },
  {
   "cell_type": "code",
   "execution_count": 7,
   "id": "2369bc05-93fe-46b2-94ee-962fb38ba1cd",
   "metadata": {},
   "outputs": [
    {
     "data": {
      "text/plain": [
       "False"
      ]
     },
     "execution_count": 7,
     "metadata": {},
     "output_type": "execute_result"
    }
   ],
   "source": [
    "car = 'audi'\n",
    "\n",
    "car == 'Audi'  # 大小写"
   ]
  },
  {
   "cell_type": "code",
   "execution_count": 8,
   "id": "a6b3c0ae-e23e-4c49-bb8b-2f5c23f7a183",
   "metadata": {},
   "outputs": [
    {
     "data": {
      "text/plain": [
       "True"
      ]
     },
     "execution_count": 8,
     "metadata": {},
     "output_type": "execute_result"
    }
   ],
   "source": [
    "car = 'audi'\n",
    "\n",
    "car.title()  == 'Audi'"
   ]
  },
  {
   "cell_type": "code",
   "execution_count": 9,
   "id": "5a35d578-893f-4048-b157-34a5345b4c64",
   "metadata": {},
   "outputs": [
    {
     "name": "stdout",
     "output_type": "stream",
     "text": [
      "Hold the anchovies!\n"
     ]
    }
   ],
   "source": [
    "requested_topping = 'mushrooms'\n",
    "\n",
    "if requested_topping != 'anchovies':\n",
    "    print('Hold the anchovies!')"
   ]
  },
  {
   "cell_type": "code",
   "execution_count": 10,
   "id": "f87be0e1-b6d1-4b97-817b-84ca530a44cb",
   "metadata": {},
   "outputs": [
    {
     "data": {
      "text/plain": [
       "True"
      ]
     },
     "execution_count": 10,
     "metadata": {},
     "output_type": "execute_result"
    }
   ],
   "source": [
    "age = 18\n",
    "\n",
    "age == 18"
   ]
  },
  {
   "cell_type": "code",
   "execution_count": 11,
   "id": "7596eff3-19d8-4f6c-9b1c-12481959a775",
   "metadata": {},
   "outputs": [
    {
     "name": "stdout",
     "output_type": "stream",
     "text": [
      "That is not the correct answer.Please again!\n"
     ]
    }
   ],
   "source": [
    "answer = 17\n",
    "\n",
    "if answer != 42:\n",
    "    print('That is not the correct answer.Please again!')"
   ]
  },
  {
   "cell_type": "code",
   "execution_count": 13,
   "id": "951dd34b-bbfd-45ad-b58f-58033b2c6536",
   "metadata": {},
   "outputs": [
    {
     "data": {
      "text/plain": [
       "True"
      ]
     },
     "execution_count": 13,
     "metadata": {},
     "output_type": "execute_result"
    }
   ],
   "source": [
    "age_0 = 22\n",
    "age_1 = 18\n",
    "\n",
    "(age_0 >= 18) and (age_1 >= 18)"
   ]
  },
  {
   "cell_type": "code",
   "execution_count": 14,
   "id": "1c75fbfb-5ef4-47d3-8c1a-8c4cb93b3d28",
   "metadata": {},
   "outputs": [
    {
     "data": {
      "text/plain": [
       "True"
      ]
     },
     "execution_count": 14,
     "metadata": {},
     "output_type": "execute_result"
    }
   ],
   "source": [
    "age_0 = 22\n",
    "age_1 = 18\n",
    "\n",
    "(age_0 >= 21) or (age_1 >= 21)"
   ]
  },
  {
   "cell_type": "code",
   "execution_count": 15,
   "id": "94e6f85d-8692-4de7-98a5-9407252a10e7",
   "metadata": {},
   "outputs": [
    {
     "name": "stdout",
     "output_type": "stream",
     "text": [
      "There must be a Eorr!\n"
     ]
    }
   ],
   "source": [
    "exports = ['pan','wang','wu']\n",
    "\n",
    "if 'kai' in exports:\n",
    "    print('NO EORR')\n",
    "else:\n",
    "    print('There must be a Eorr!')"
   ]
  },
  {
   "cell_type": "code",
   "execution_count": 17,
   "id": "02569a59-816c-4b65-9aa4-68f456510e0a",
   "metadata": {},
   "outputs": [
    {
     "name": "stdout",
     "output_type": "stream",
     "text": [
      "Adding mushrooms.\n",
      "Adding green_peppeer.\n",
      "Adding extra cheese.\n",
      "\n",
      "Finishing your delicious pizza!\n"
     ]
    }
   ],
   "source": [
    "requested_toppings = ['mushrooms','green_peppeer','extra cheese']\n",
    "\n",
    "for requested_topping in requested_toppings:\n",
    "    print(f'Adding {requested_topping}.')\n",
    "print('\\nFinishing your delicious pizza!')"
   ]
  },
  {
   "cell_type": "code",
   "execution_count": 18,
   "id": "c9a31fa3-d5d2-492c-9dbe-fdf29ac12db4",
   "metadata": {},
   "outputs": [
    {
     "name": "stdout",
     "output_type": "stream",
     "text": [
      "If you want a plain pizza?\n"
     ]
    }
   ],
   "source": [
    "requested_toppings = []\n",
    "\n",
    "if requested_toppings:\n",
    "    for requested_topping in requested_toppings:\n",
    "        print(f'Adding {requested_topping}.')\n",
    "    print('\\nFinishing your delicious pizza!')\n",
    "else:\n",
    "    print('If you want a plain pizza?') # 确定列表非空"
   ]
  },
  {
   "cell_type": "code",
   "execution_count": 22,
   "id": "e270fb35-3dd7-432f-8d49-70fa0faece5a",
   "metadata": {},
   "outputs": [
    {
     "name": "stdout",
     "output_type": "stream",
     "text": [
      "Add mushrooms.\n",
      "Sorry,we don't have french fries\n",
      "Add extra cheese.\n",
      "\n",
      "Finishing making your pizza!\n"
     ]
    }
   ],
   "source": [
    "available_toppings = ['mushrooms','olives','green_peppers',\n",
    "                     'pepperoni','pineapple','extra cheese']\n",
    "\n",
    "requested_toppings = ['mushrooms','french fries','extra cheese']\n",
    "\n",
    "for requested_topping in requested_toppings:\n",
    "    if requested_topping in available_toppings:\n",
    "        print(f'Add {requested_topping}.')\n",
    "    else:\n",
    "        print(f\"Sorry,we don't have {requested_topping}\")\n",
    "\n",
    "print('\\nFinishing making your pizza!') # 多个列表 里面元素之间的关系\n",
    "        "
   ]
  },
  {
   "cell_type": "code",
   "execution_count": null,
   "id": "556f0f3b-f25d-4b4c-89b0-8db3fae32055",
   "metadata": {},
   "outputs": [],
   "source": []
  }
 ],
 "metadata": {
  "kernelspec": {
   "display_name": "Python 3 (ipykernel)",
   "language": "python",
   "name": "python3"
  },
  "language_info": {
   "codemirror_mode": {
    "name": "ipython",
    "version": 3
   },
   "file_extension": ".py",
   "mimetype": "text/x-python",
   "name": "python",
   "nbconvert_exporter": "python",
   "pygments_lexer": "ipython3",
   "version": "3.9.21"
  }
 },
 "nbformat": 4,
 "nbformat_minor": 5
}
