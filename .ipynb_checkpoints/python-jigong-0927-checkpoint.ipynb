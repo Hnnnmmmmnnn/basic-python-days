{
 "cells": [
  {
   "cell_type": "markdown",
   "id": "b091ba5a-73e5-4ee0-ad7a-44dcf453d25d",
   "metadata": {},
   "source": [
    "## python 从入门到实践 ch6 字典 dictionary"
   ]
  },
  {
   "cell_type": "code",
   "execution_count": 1,
   "id": "9db3d89d-3171-402d-b872-89da92310d88",
   "metadata": {},
   "outputs": [
    {
     "name": "stdout",
     "output_type": "stream",
     "text": [
      "green\n",
      "5\n"
     ]
    }
   ],
   "source": [
    "alien_0 = {'color':'green','points':5}\n",
    "\n",
    "print(alien_0['color'])\n",
    "print(alien_0['points']) # 打印字典值"
   ]
  },
  {
   "cell_type": "code",
   "execution_count": 2,
   "id": "7e35d222-ecf4-4e28-ae4f-a2747b525400",
   "metadata": {},
   "outputs": [
    {
     "data": {
      "text/plain": [
       "{'color': 'green', 'points': 5}"
      ]
     },
     "execution_count": 2,
     "metadata": {},
     "output_type": "execute_result"
    }
   ],
   "source": [
    "alien_0 # 打印全字典"
   ]
  },
  {
   "cell_type": "code",
   "execution_count": 5,
   "id": "c8b23de7-eb7b-416f-b44b-dc08849f1b64",
   "metadata": {},
   "outputs": [
    {
     "name": "stdout",
     "output_type": "stream",
     "text": [
      "You just earned 5 points!\n"
     ]
    }
   ],
   "source": [
    "new_points = alien_0['points']\n",
    "\n",
    "print(f'You just earned {new_points} points!') # 字典不能直接 f{}"
   ]
  },
  {
   "cell_type": "code",
   "execution_count": 7,
   "id": "0cc30d4e-3c63-4290-8754-df9dbe7c0b0c",
   "metadata": {},
   "outputs": [
    {
     "name": "stdout",
     "output_type": "stream",
     "text": [
      "{'color': 'green', 'points': 5, 'x_position': 0, 'y_position': 25}\n"
     ]
    }
   ],
   "source": [
    "alien_0['x_position'] = 0\n",
    "alien_0['y_position'] = 25\n",
    "\n",
    "print(alien_0) # 添加·键值对"
   ]
  },
  {
   "cell_type": "code",
   "execution_count": null,
   "id": "b5ee8541-54bb-4c5a-a5a7-e0766c560c86",
   "metadata": {},
   "outputs": [],
   "source": []
  },
  {
   "cell_type": "code",
   "execution_count": 8,
   "id": "8619b4fa-ee85-424c-9866-fb58bc8e9007",
   "metadata": {},
   "outputs": [
    {
     "name": "stdout",
     "output_type": "stream",
     "text": [
      "{'color': 'green', 'points': 5}\n"
     ]
    }
   ],
   "source": [
    "alien_0 = {} # 先建一个空字典\n",
    "\n",
    "alien_0['color'] = 'green'\n",
    "alien_0['points'] = 5\n",
    "\n",
    "print(alien_0)"
   ]
  },
  {
   "cell_type": "code",
   "execution_count": 9,
   "id": "bd2efed3-708a-48b3-b372-97a4150f2a52",
   "metadata": {},
   "outputs": [
    {
     "name": "stdout",
     "output_type": "stream",
     "text": [
      "{'color': 'yellow', 'points': 5}\n"
     ]
    }
   ],
   "source": [
    "alien_0['color'] = 'yellow'\n",
    "\n",
    "print(alien_0) # 更改元素的值"
   ]
  },
  {
   "cell_type": "code",
   "execution_count": 12,
   "id": "dca96362-7a75-46ea-95b2-7e75730fdb49",
   "metadata": {},
   "outputs": [
    {
     "name": "stdout",
     "output_type": "stream",
     "text": [
      "Original x_position is 0\n",
      "Now x_position is 2\n"
     ]
    }
   ],
   "source": [
    "alien_0 = {'x_position':0,'y_position':25,'x_speed':'medium'}\n",
    "print(f\"Original x_position is {alien_0['x_position']}\")\n",
    "\n",
    "if alien_0['x_speed'] == 'slow':\n",
    "    x_increment = 1\n",
    "elif alien_0['x_speed'] == 'medium':\n",
    "    x_increment = 2\n",
    "elif alien_0['x_speed'] == 'fast':\n",
    "    x_increment = 3\n",
    "\n",
    "alien_0['x_position'] = alien_0['x_position'] + x_increment\n",
    "print(f\"Now x_position is {alien_0['x_position']}\") "
   ]
  },
  {
   "cell_type": "code",
   "execution_count": 13,
   "id": "3d72ef1b-fe28-4760-b101-a76cc4dbe2ab",
   "metadata": {},
   "outputs": [
    {
     "data": {
      "text/plain": [
       "{'points': 5}"
      ]
     },
     "execution_count": 13,
     "metadata": {},
     "output_type": "execute_result"
    }
   ],
   "source": [
    "alien_0 = {'color':'green','points':5}\n",
    "\n",
    "del alien_0['color'] # 删除键值对\n",
    "alien_0"
   ]
  },
  {
   "cell_type": "code",
   "execution_count": 15,
   "id": "6cfff09d-67d7-403f-9748-5dd1efac64dc",
   "metadata": {},
   "outputs": [
    {
     "name": "stdout",
     "output_type": "stream",
     "text": [
      "My favorite language is python!\n"
     ]
    }
   ],
   "source": [
    "favorite_languages = {'mum':'c',\n",
    "                      'dad':'java',\n",
    "                      'me':'python',\n",
    "                     } # 换行\n",
    "\n",
    "print(f\"My favorite language is {favorite_languages['me']}!\")"
   ]
  },
  {
   "cell_type": "code",
   "execution_count": 16,
   "id": "03739eab-e180-4390-a927-89dfc69c482d",
   "metadata": {},
   "outputs": [
    {
     "ename": "KeyError",
     "evalue": "'points'",
     "output_type": "error",
     "traceback": [
      "\u001b[1;31m---------------------------------------------------------------------------\u001b[0m",
      "\u001b[1;31mKeyError\u001b[0m                                  Traceback (most recent call last)",
      "Cell \u001b[1;32mIn[16], line 3\u001b[0m\n\u001b[0;32m      1\u001b[0m alien_0 \u001b[38;5;241m=\u001b[39m {\u001b[38;5;124m'\u001b[39m\u001b[38;5;124mcolor\u001b[39m\u001b[38;5;124m'\u001b[39m:\u001b[38;5;124m'\u001b[39m\u001b[38;5;124mgreen\u001b[39m\u001b[38;5;124m'\u001b[39m,}\n\u001b[1;32m----> 3\u001b[0m \u001b[38;5;28mprint\u001b[39m(\u001b[43malien_0\u001b[49m\u001b[43m[\u001b[49m\u001b[38;5;124;43m'\u001b[39;49m\u001b[38;5;124;43mpoints\u001b[39;49m\u001b[38;5;124;43m'\u001b[39;49m\u001b[43m]\u001b[49m)\n",
      "\u001b[1;31mKeyError\u001b[0m: 'points'"
     ]
    }
   ],
   "source": [
    "alien_0 = {'color':'green',}\n",
    "\n",
    "print(alien_0['points']) # 强行输出不存在的键值对会报错 "
   ]
  },
  {
   "cell_type": "code",
   "execution_count": 20,
   "id": "750e0d40-af53-4564-9a72-f148d844d4e6",
   "metadata": {},
   "outputs": [
    {
     "name": "stdout",
     "output_type": "stream",
     "text": [
      "No point value assigned\n"
     ]
    }
   ],
   "source": [
    "alien_0 = {'color':'green',}\n",
    "\n",
    "point_value = alien_0.get('points','No point value assigned') # get方法避免报错 输出提示\n",
    "print(point_value)"
   ]
  },
  {
   "cell_type": "code",
   "execution_count": 22,
   "id": "c2d08b1b-30af-42f3-835a-7dc32bab98c6",
   "metadata": {},
   "outputs": [
    {
     "name": "stdout",
     "output_type": "stream",
     "text": [
      "\n",
      "Key:username.\n",
      "Value:efermi.\n",
      "\n",
      "Key:first_name.\n",
      "Value:enrico.\n",
      "\n",
      "Key:last_name.\n",
      "Value:fermi.\n"
     ]
    }
   ],
   "source": [
    "user_0 = {'username':'efermi',\n",
    "         'first_name':'enrico',\n",
    "         'last_name':'fermi'}\n",
    "\n",
    "for key,value in user_0.items():\n",
    "    print(f'\\nKey:{key}.')\n",
    "    print(f'Value:{value}.')"
   ]
  },
  {
   "cell_type": "code",
   "execution_count": 24,
   "id": "77b2fa01-3f6e-4040-bd46-800c73182b59",
   "metadata": {},
   "outputs": [
    {
     "name": "stdout",
     "output_type": "stream",
     "text": [
      "Mum's favorite language is c!\n",
      "Dad's favorite language is java!\n",
      "Me's favorite language is python!\n"
     ]
    }
   ],
   "source": [
    "for name,language in favorite_languages.items():\n",
    "    print(f\"{name.title()}'s favorite language is {language}!\")"
   ]
  },
  {
   "cell_type": "code",
   "execution_count": 25,
   "id": "0e41b47a-6e28-454a-8b24-ecc7d267bcd0",
   "metadata": {},
   "outputs": [
    {
     "name": "stdout",
     "output_type": "stream",
     "text": [
      "mum\n",
      "\n",
      "dad\n",
      "\n",
      "me\n",
      "\n"
     ]
    }
   ],
   "source": [
    "for name in favorite_languages.keys():\n",
    "    print(f'{name}\\n')"
   ]
  },
  {
   "cell_type": "code",
   "execution_count": 26,
   "id": "143c2bc2-5593-47a6-8c17-d57b5981a5f2",
   "metadata": {},
   "outputs": [
    {
     "name": "stdout",
     "output_type": "stream",
     "text": [
      "mum\n",
      "\n",
      "dad\n",
      "\n",
      "me\n",
      "\n"
     ]
    }
   ],
   "source": [
    "for name in favorite_languages:\n",
    "    print(f'{name}\\n')"
   ]
  },
  {
   "cell_type": "code",
   "execution_count": 27,
   "id": "749d9f9d-6cfc-40b9-923e-991067bc6ed5",
   "metadata": {},
   "outputs": [
    {
     "name": "stdout",
     "output_type": "stream",
     "text": [
      "c\n",
      "\n",
      "java\n",
      "\n",
      "python\n",
      "\n"
     ]
    }
   ],
   "source": [
    "for language in favorite_languages.values():\n",
    "    print(f'{language}\\n')"
   ]
  },
  {
   "cell_type": "code",
   "execution_count": 31,
   "id": "25e066f2-8bb3-4608-ac66-3140f8a7276a",
   "metadata": {},
   "outputs": [
    {
     "name": "stdout",
     "output_type": "stream",
     "text": [
      "Hi,Mum.\n",
      "Hi,Dad.\n",
      "Hi,Me.\n",
      "Me,oh,I love python!\n",
      "Grandpa,please take the poll~\n"
     ]
    }
   ],
   "source": [
    "I = ['me']\n",
    "\n",
    "for name in favorite_languages.keys():\n",
    "    print(f'Hi,{name.title()}.')\n",
    "\n",
    "    if name in I:\n",
    "        language = favorite_languages[name]\n",
    "        print(f'{name.title()},oh,I love {language}!') # 神气\n",
    "\n",
    "if 'grandpa' not in favorite_languages.keys():\n",
    "    print(f'Grandpa,please take the poll~')"
   ]
  },
  {
   "cell_type": "code",
   "execution_count": 32,
   "id": "420206f8-d2b4-4a8f-972d-35551eb6b416",
   "metadata": {},
   "outputs": [
    {
     "name": "stdout",
     "output_type": "stream",
     "text": [
      "Dad,thank you for taking the poll!\n",
      "Me,thank you for taking the poll!\n",
      "Mum,thank you for taking the poll!\n"
     ]
    }
   ],
   "source": [
    "for name in sorted(favorite_languages.keys()):\n",
    "    print(f'{name.title()},thank you for taking the poll!')"
   ]
  },
  {
   "cell_type": "code",
   "execution_count": 33,
   "id": "cb6f73cf-2d30-4c46-9797-ce82283b2634",
   "metadata": {},
   "outputs": [
    {
     "name": "stdout",
     "output_type": "stream",
     "text": [
      "The follow languages have been motioned:\n",
      "C\n",
      "Java\n",
      "Python\n"
     ]
    }
   ],
   "source": [
    "print('The follow languages have been motioned:')\n",
    "\n",
    "for language in favorite_languages.values():\n",
    "    print(f'{language.title()}')"
   ]
  },
  {
   "cell_type": "code",
   "execution_count": 34,
   "id": "bfde6465-0dea-438b-b9af-02f3fd242380",
   "metadata": {},
   "outputs": [
    {
     "name": "stdout",
     "output_type": "stream",
     "text": [
      "Python\n",
      "Java\n",
      "C\n"
     ]
    }
   ],
   "source": [
    "for language in set(favorite_languages.values()): # 集合\n",
    "    print(f'{language.title()}')"
   ]
  },
  {
   "cell_type": "code",
   "execution_count": 36,
   "id": "188e8e4c-888f-4dab-8f33-242da6c3cf60",
   "metadata": {},
   "outputs": [
    {
     "data": {
      "text/plain": [
       "{'c', 'java', 'python'}"
      ]
     },
     "execution_count": 36,
     "metadata": {},
     "output_type": "execute_result"
    }
   ],
   "source": [
    "languages = {'c','python','java'}\n",
    "languages # 集合 独一无二的元素"
   ]
  },
  {
   "cell_type": "code",
   "execution_count": 37,
   "id": "db0b95a0-a48a-4951-a406-0e9dc09e42a9",
   "metadata": {},
   "outputs": [
    {
     "name": "stdout",
     "output_type": "stream",
     "text": [
      "[{'color': 'green', 'points': 5}, {'color': 'yellow', 'points': 10}, {'color': 'red', 'points': 15}]\n"
     ]
    }
   ],
   "source": [
    "alien_0 = {'color':'green','points':5}\n",
    "alien_1 = {'color':'yellow','points':10}\n",
    "alien_2 = {'color':'red','points':15}\n",
    "\n",
    "alien = [alien_0,alien_1,alien_2]\n",
    "print(alien)"
   ]
  },
  {
   "cell_type": "code",
   "execution_count": 41,
   "id": "70a87eb5-c016-4fb7-baef-5be0f9fcce90",
   "metadata": {},
   "outputs": [
    {
     "name": "stdout",
     "output_type": "stream",
     "text": [
      "{'color': 'green', 'points': 5, 'speed': 'slow'}\n",
      "\n",
      "{'color': 'green', 'points': 5, 'speed': 'slow'}\n",
      "\n",
      "{'color': 'green', 'points': 5, 'speed': 'slow'}\n",
      "\n",
      "{'color': 'green', 'points': 5, 'speed': 'slow'}\n",
      "\n",
      "{'color': 'green', 'points': 5, 'speed': 'slow'}\n",
      "\n",
      "...\n",
      "There are 30 alien in lists!\n"
     ]
    }
   ],
   "source": [
    "aliens = []\n",
    "\n",
    "for alien_num in range(30):\n",
    "    new_alien = {'color':'green','points':5,'speed':'slow'}\n",
    "    aliens.append(new_alien)\n",
    "\n",
    "for alien in aliens[:5]: # 打印前5个字典\n",
    "    print(f'{alien}\\n')\n",
    "print('...')\n",
    "\n",
    "print(f'There are {len(aliens)} alien in lists!') # 有意思"
   ]
  },
  {
   "cell_type": "code",
   "execution_count": 42,
   "id": "98fc68e8-e2e9-4057-a8d5-60c5a7a00dd7",
   "metadata": {},
   "outputs": [
    {
     "name": "stdout",
     "output_type": "stream",
     "text": [
      "{'color': 'yellow', 'points': 10, 'speed': 'medium'}\n",
      "{'color': 'yellow', 'points': 10, 'speed': 'medium'}\n",
      "{'color': 'yellow', 'points': 10, 'speed': 'medium'}\n",
      "{'color': 'green', 'points': 5, 'speed': 'slow'}\n",
      "{'color': 'green', 'points': 5, 'speed': 'slow'}\n",
      "...\n"
     ]
    }
   ],
   "source": [
    "for alien in aliens[:3]:\n",
    "    if alien['color'] == 'green':\n",
    "        alien['color'] = 'yellow'\n",
    "        alien['points'] = 10\n",
    "        alien['speed'] = 'medium'\n",
    "\n",
    "for alien in aliens[:5]:\n",
    "    print(alien)\n",
    "print('...')"
   ]
  },
  {
   "cell_type": "code",
   "execution_count": 43,
   "id": "2805b5a2-71c7-4038-8092-c66261858b21",
   "metadata": {},
   "outputs": [
    {
     "name": "stdout",
     "output_type": "stream",
     "text": [
      "You ordered a thick-crust pizza:\n",
      "With those toppings:\n",
      "mushrooms\t\n",
      "extra cheese\t\n"
     ]
    }
   ],
   "source": [
    "pizza = {'crust':'thick',\n",
    "        'toppings':['mushrooms','extra cheese'],}\n",
    "\n",
    "print(f\"You ordered a {pizza['crust']}-crust pizza:\")\n",
    "print(\"With those toppings:\")\n",
    "for topping in pizza['toppings']:\n",
    "    print(f\"{topping}\\t\")"
   ]
  },
  {
   "cell_type": "code",
   "execution_count": 48,
   "id": "8d954377-2667-4696-aa79-86aae48c66bf",
   "metadata": {},
   "outputs": [
    {
     "name": "stdout",
     "output_type": "stream",
     "text": [
      "Zhangsan's informations:\n",
      "First name:san\n",
      "Last name:zhang\n",
      "Location:beijing\n",
      "\n",
      "Lisi's informations:\n",
      "First name:si\n",
      "Last name:li\n",
      "Location:shanghai\n",
      "\n"
     ]
    }
   ],
   "source": [
    "users = {'zhangsan':{'first_name':'san',\n",
    "                    'last_name':'zhang',\n",
    "                    'location':'beijing'},\n",
    "        'lisi':{'first_name':'si',\n",
    "               'last_name':'li',\n",
    "               'location':'shanghai'}\n",
    "        }\n",
    "\n",
    "for user_name,user_info in users.items():\n",
    "    print(f\"{user_name.title()}'s informations:\")\n",
    "    print(f\"First name:{user_info['first_name']}\")\n",
    "    print(f\"Last name:{user_info['last_name']}\")\n",
    "    print(f\"Location:{user_info['location']}\\n\")\n",
    "    "
   ]
  },
  {
   "cell_type": "code",
   "execution_count": null,
   "id": "bbd849a5-46ef-41af-b1ee-1d2e8f6fb439",
   "metadata": {},
   "outputs": [],
   "source": []
  },
  {
   "cell_type": "code",
   "execution_count": null,
   "id": "e8b8ef14-5b0b-4305-96f9-1198fda24c68",
   "metadata": {},
   "outputs": [],
   "source": []
  },
  {
   "cell_type": "code",
   "execution_count": null,
   "id": "45c10327-a38f-43b9-939c-6c1dcf4c0678",
   "metadata": {},
   "outputs": [],
   "source": []
  }
 ],
 "metadata": {
  "kernelspec": {
   "display_name": "Python 3 (ipykernel)",
   "language": "python",
   "name": "python3"
  },
  "language_info": {
   "codemirror_mode": {
    "name": "ipython",
    "version": 3
   },
   "file_extension": ".py",
   "mimetype": "text/x-python",
   "name": "python",
   "nbconvert_exporter": "python",
   "pygments_lexer": "ipython3",
   "version": "3.9.21"
  }
 },
 "nbformat": 4,
 "nbformat_minor": 5
}
