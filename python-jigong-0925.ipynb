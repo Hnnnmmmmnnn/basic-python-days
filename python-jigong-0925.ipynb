{
 "cells": [
  {
   "cell_type": "markdown",
   "id": "04cf2a38-6a47-437c-aa02-fa373706264b",
   "metadata": {},
   "source": [
    "## python 从入门到实践 ch4 操纵列表"
   ]
  },
  {
   "cell_type": "code",
   "execution_count": 1,
   "id": "be206e11-e221-4e22-8810-8d7a5ef0ba54",
   "metadata": {},
   "outputs": [
    {
     "name": "stdout",
     "output_type": "stream",
     "text": [
      "vae\n",
      "cvae\n",
      "vq-vae\n"
     ]
    }
   ],
   "source": [
    "vaes = ['vae','cvae','vq-vae']\n",
    "for vae in vaes:\n",
    "    print(vae)"
   ]
  },
  {
   "cell_type": "code",
   "execution_count": 2,
   "id": "91bcf299-4439-410c-a5d6-9d256651866f",
   "metadata": {},
   "outputs": [
    {
     "name": "stdout",
     "output_type": "stream",
     "text": [
      "Vae,that is a graet show!\n",
      "Cvae,that is a graet show!\n",
      "Vq-Vae,that is a graet show!\n"
     ]
    }
   ],
   "source": [
    "for vae in vaes:\n",
    "    print(f'{vae.title()},that is a graet show!')"
   ]
  },
  {
   "cell_type": "code",
   "execution_count": 3,
   "id": "c1315f65-5ca9-4828-8bc8-cdcfb174072b",
   "metadata": {},
   "outputs": [
    {
     "name": "stdout",
     "output_type": "stream",
     "text": [
      "Vae,that is a graet show!\n",
      "Cvae,that is a graet show!\n",
      "Vq-Vae,that is a graet show!\n",
      "Thank you everyone so good!\n"
     ]
    }
   ],
   "source": [
    "for vae in vaes:\n",
    "    print(f'{vae.title()},that is a graet show!')\n",
    "print('Thank you everyone so good!')"
   ]
  },
  {
   "cell_type": "code",
   "execution_count": 4,
   "id": "fc71d40b-138f-402a-aefc-264ff6e2ae6d",
   "metadata": {},
   "outputs": [
    {
     "name": "stdout",
     "output_type": "stream",
     "text": [
      "1\n",
      "2\n",
      "3\n",
      "4\n"
     ]
    }
   ],
   "source": [
    "for value in range(1,5):\n",
    "    print(value)"
   ]
  },
  {
   "cell_type": "code",
   "execution_count": 5,
   "id": "b8a2c997-e7de-4d69-a580-0855bdc685c7",
   "metadata": {},
   "outputs": [
    {
     "name": "stdout",
     "output_type": "stream",
     "text": [
      "0\n",
      "1\n",
      "2\n",
      "3\n",
      "4\n",
      "5\n"
     ]
    }
   ],
   "source": [
    "for value in range(6):\n",
    "    print(value)"
   ]
  },
  {
   "cell_type": "code",
   "execution_count": 6,
   "id": "263ae41c-d1a0-45fd-90e0-65ab1b56cd45",
   "metadata": {},
   "outputs": [
    {
     "name": "stdout",
     "output_type": "stream",
     "text": [
      "[0, 1, 2, 3, 4, 5]\n"
     ]
    }
   ],
   "source": [
    "numbers = list(range(6))\n",
    "print(numbers)"
   ]
  },
  {
   "cell_type": "code",
   "execution_count": 7,
   "id": "3da2c264-4ea8-47f8-8986-558759e260cb",
   "metadata": {},
   "outputs": [
    {
     "name": "stdout",
     "output_type": "stream",
     "text": [
      "[2, 4, 6, 8, 10]\n"
     ]
    }
   ],
   "source": [
    "even_numbers = list(range(2,11,2))  # 含最后一个数值\n",
    "print(even_numbers)"
   ]
  },
  {
   "cell_type": "code",
   "execution_count": 8,
   "id": "32d8a46e-b678-4dec-bbfb-c4ade63f9c15",
   "metadata": {},
   "outputs": [
    {
     "name": "stdout",
     "output_type": "stream",
     "text": [
      "[1, 4, 9, 16]\n"
     ]
    }
   ],
   "source": [
    "squares = []\n",
    "for value in range(1,5):\n",
    "    square = value**2\n",
    "    squares.append(square)          # 但意思更明确、清晰\n",
    "print(squares)"
   ]
  },
  {
   "cell_type": "code",
   "execution_count": 9,
   "id": "ced3de59-893a-4afd-8f6d-2164d617a855",
   "metadata": {},
   "outputs": [
    {
     "name": "stdout",
     "output_type": "stream",
     "text": [
      "[1, 4, 9, 16]\n"
     ]
    }
   ],
   "source": [
    "# 简洁\n",
    "squares = []\n",
    "for value in range(1,5):\n",
    "    squares.append(value**2)\n",
    "print(squares)"
   ]
  },
  {
   "cell_type": "code",
   "execution_count": 10,
   "id": "1cdff853-23a0-4175-ad27-5478365e8741",
   "metadata": {},
   "outputs": [
    {
     "data": {
      "text/plain": [
       "(0, 9, 45)"
      ]
     },
     "execution_count": 10,
     "metadata": {},
     "output_type": "execute_result"
    }
   ],
   "source": [
    "list = [1,2,3,4,5,6,7,8,9,0]\n",
    "min(list),max(list),sum(list)    # 简便计算"
   ]
  },
  {
   "cell_type": "code",
   "execution_count": 11,
   "id": "47dacbd5-7bfe-4ee4-b64e-3dc07f2478b9",
   "metadata": {},
   "outputs": [
    {
     "name": "stdout",
     "output_type": "stream",
     "text": [
      "[1, 4, 9, 16]\n"
     ]
    }
   ],
   "source": [
    "# 大大大大大武器------列表推导式\n",
    "squares = [value**2 for value in range(1,5)]\n",
    "print(squares)"
   ]
  },
  {
   "cell_type": "code",
   "execution_count": 17,
   "id": "0f62be24-24f1-486a-b385-05eec15f849b",
   "metadata": {},
   "outputs": [
    {
     "name": "stdout",
     "output_type": "stream",
     "text": [
      "[1, 4, 9]\n",
      "[4, 9, 16]\n",
      "[9, 16]\n",
      "[1, 4]\n",
      "[9, 16]\n"
     ]
    }
   ],
   "source": [
    "print(squares[0:3]) # 第一个到第三个\n",
    "print(squares[1:4]) # 第二个到第四个\n",
    "print(squares[2:]) # 第三个（含）开始\n",
    "print(squares[:-2]) # 倒数第二个（不含）前面的\n",
    "print(squares[-2:]) # 最后两个"
   ]
  },
  {
   "cell_type": "code",
   "execution_count": 20,
   "id": "4c0d0cdd-92ac-47a6-b8a1-282f2fa20652",
   "metadata": {},
   "outputs": [
    {
     "name": "stdout",
     "output_type": "stream",
     "text": [
      "Here are the core tasks in my list:\n",
      "I love practicing Python on my screen!\n",
      "I love practicing Pytorch on my screen!\n"
     ]
    }
   ],
   "source": [
    "tasks = ['CET-6','python','pytorch']\n",
    "print('Here are the core tasks in my list:')\n",
    "for task in tasks[1:]:\n",
    "    print(f'I love practicing {task.title()} on my screen!')"
   ]
  },
  {
   "cell_type": "code",
   "execution_count": 21,
   "id": "130cd143-021e-4add-b646-ce7550520f91",
   "metadata": {},
   "outputs": [
    {
     "name": "stdout",
     "output_type": "stream",
     "text": [
      "['tea', 'cola', 'coffee']\n",
      "['tea', 'cola', 'coffee']\n",
      "['tea', 'cola', 'coffee', 'milk']\n",
      "['tea', 'cola', 'coffee', 'water']\n"
     ]
    }
   ],
   "source": [
    "my_drinks = ['tea','cola','coffee']  # 复制副本\n",
    "friends_drinks = my_drinks[:]\n",
    "\n",
    "print(my_drinks)\n",
    "print(friends_drinks)\n",
    "\n",
    "my_drinks.append('milk')\n",
    "friends_drinks.append('water')\n",
    "\n",
    "print(my_drinks)\n",
    "print(friends_drinks)"
   ]
  },
  {
   "cell_type": "code",
   "execution_count": 22,
   "id": "ba7e2749-5c8e-46b9-9f77-3b50c46299ed",
   "metadata": {},
   "outputs": [
    {
     "name": "stdout",
     "output_type": "stream",
     "text": [
      "['tea', 'cola', 'coffee']\n",
      "['tea', 'cola', 'coffee']\n",
      "['tea', 'cola', 'coffee', 'milk', 'water']\n",
      "['tea', 'cola', 'coffee', 'milk', 'water']\n"
     ]
    }
   ],
   "source": [
    "# 复制达咩的操作！\n",
    "my_drinks = ['tea','cola','coffee']\n",
    "friends_drinks = my_drinks\n",
    "\n",
    "print(my_drinks)\n",
    "print(friends_drinks)\n",
    "\n",
    "my_drinks.append('milk')\n",
    "friends_drinks.append('water')\n",
    "\n",
    "print(my_drinks)\n",
    "print(friends_drinks)   # 二者 存储都指向同一地址"
   ]
  },
  {
   "cell_type": "code",
   "execution_count": 27,
   "id": "9f8c738c-4925-4403-926e-8645d83ea536",
   "metadata": {},
   "outputs": [
    {
     "name": "stdout",
     "output_type": "stream",
     "text": [
      "(3.14, 2.8)\n",
      "3.14\n",
      "2.8\n"
     ]
    },
    {
     "name": "stderr",
     "output_type": "stream",
     "text": [
      "UsageError: Line magic function `%` not found.\n"
     ]
    }
   ],
   "source": [
    "# 元组 \n",
    "math_tuple = (3.14,2.8)\n",
    "print(math_tuple)\n",
    "print(math_tuple[0])\n",
    "print(math_tuple[1])\n",
    "# math_tuple[0] = 9  元组不支持修改 会报错 \n",
    "# TypeError: 'tuple' object does not support item assignment"
   ]
  },
  {
   "cell_type": "code",
   "execution_count": 28,
   "id": "f472d916-9c4f-4a8e-97e9-790efbd557d7",
   "metadata": {},
   "outputs": [
    {
     "name": "stdout",
     "output_type": "stream",
     "text": [
      "(3.14, 2.8)\n",
      "(1, 2)\n"
     ]
    }
   ],
   "source": [
    "# 但可以重新定义元组\n",
    "math_tuple = (3.14,2.8)\n",
    "print(math_tuple)\n",
    "math_tuple = (1,2)\n",
    "print(math_tuple) # 很可以 不报错！"
   ]
  },
  {
   "cell_type": "code",
   "execution_count": null,
   "id": "20302c6b-93a6-412f-8009-ba6083162c2a",
   "metadata": {},
   "outputs": [],
   "source": []
  }
 ],
 "metadata": {
  "kernelspec": {
   "display_name": "Python 3 (ipykernel)",
   "language": "python",
   "name": "python3"
  },
  "language_info": {
   "codemirror_mode": {
    "name": "ipython",
    "version": 3
   },
   "file_extension": ".py",
   "mimetype": "text/x-python",
   "name": "python",
   "nbconvert_exporter": "python",
   "pygments_lexer": "ipython3",
   "version": "3.9.21"
  }
 },
 "nbformat": 4,
 "nbformat_minor": 5
}
