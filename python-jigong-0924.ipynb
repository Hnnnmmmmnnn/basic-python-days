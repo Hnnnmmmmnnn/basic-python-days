{
 "cells": [
  {
   "cell_type": "markdown",
   "id": "361cfb78-1bd9-4016-ba6d-7a0bd1a0132b",
   "metadata": {},
   "source": [
    "## python 从入门到实践 ch3 列表"
   ]
  },
  {
   "cell_type": "code",
   "execution_count": 1,
   "id": "5cca8b6f-e2c6-4537-aa4d-da881789caf8",
   "metadata": {},
   "outputs": [
    {
     "name": "stdout",
     "output_type": "stream",
     "text": [
      "['mom', 'dad', 'me']\n"
     ]
    }
   ],
   "source": [
    "families = ['mom','dad','me']\n",
    "print(families)"
   ]
  },
  {
   "cell_type": "code",
   "execution_count": 3,
   "id": "9d7c0ce7-7c43-4491-acec-ae35ef475a29",
   "metadata": {},
   "outputs": [
    {
     "name": "stdout",
     "output_type": "stream",
     "text": [
      "mom\n",
      "dad\n",
      "me\n",
      "me\n",
      "Mom\n"
     ]
    }
   ],
   "source": [
    "print(families[0])\n",
    "print(families[1])\n",
    "print(families[2])\n",
    "print(families[-1])\n",
    "print(families[0].title())    # suoyin"
   ]
  },
  {
   "cell_type": "code",
   "execution_count": 7,
   "id": "e8aad122-21f3-45c6-83f2-94a020f990ee",
   "metadata": {},
   "outputs": [
    {
     "name": "stdout",
     "output_type": "stream",
     "text": [
      "My favorite families are Mom,Dad,--and Me!\n"
     ]
    }
   ],
   "source": [
    "message = f'My favorite families are {families[0].title()},{families[1].title()},--and {families[2].title()}!'\n",
    "print(message)"
   ]
  },
  {
   "cell_type": "code",
   "execution_count": 8,
   "id": "baa1e58b-a0a3-484f-941e-901ba20e2a65",
   "metadata": {},
   "outputs": [
    {
     "name": "stdout",
     "output_type": "stream",
     "text": [
      "['flow', 'vae', 'diffusion']\n",
      "['gan', 'vae', 'diffusion']\n"
     ]
    }
   ],
   "source": [
    "generators = ['flow','vae','diffusion']\n",
    "print(generators)\n",
    "generators[0] = 'gan'\n",
    "print(generators)        # 直接改值"
   ]
  },
  {
   "cell_type": "code",
   "execution_count": 9,
   "id": "277e3d16-7ef4-4578-a218-f640b0288cd0",
   "metadata": {},
   "outputs": [
    {
     "name": "stdout",
     "output_type": "stream",
     "text": [
      "['gan', 'vae', 'diffusion', 'flow']\n"
     ]
    }
   ],
   "source": [
    "generators.append('flow')\n",
    "print(generators)           # 从后添加"
   ]
  },
  {
   "cell_type": "code",
   "execution_count": 10,
   "id": "0385b1f8-faf3-49ec-b3e2-4b4ddd693fa8",
   "metadata": {},
   "outputs": [
    {
     "name": "stdout",
     "output_type": "stream",
     "text": [
      "[]\n",
      "['gan', 'vae', 'diffusion', 'flow']\n"
     ]
    }
   ],
   "source": [
    "generators = []\n",
    "print(generators)\n",
    "generators.append('gan')\n",
    "generators.append('vae')\n",
    "generators.append('diffusion')\n",
    "generators.append('flow')\n",
    "print(generators)           "
   ]
  },
  {
   "cell_type": "code",
   "execution_count": 22,
   "id": "4dbabd36-9447-460c-9298-4e236211d227",
   "metadata": {},
   "outputs": [
    {
     "name": "stdout",
     "output_type": "stream",
     "text": [
      "['vae', 'diffusion', 'flow']\n",
      "['gan', 'vae', 'diffusion', 'flow']\n"
     ]
    }
   ],
   "source": [
    "generators = ['vae','diffusion','flow']\n",
    "print(generators)\n",
    "generators.insert(0,'gan')\n",
    "print(generators)            # 插入元素，其余右移"
   ]
  },
  {
   "cell_type": "code",
   "execution_count": 23,
   "id": "482318ac-27b7-4826-838f-fea62c3ae5ce",
   "metadata": {},
   "outputs": [
    {
     "name": "stdout",
     "output_type": "stream",
     "text": [
      "['gan', 'vae', 'diffusion', 'flow']\n",
      "['vae', 'diffusion', 'flow']\n"
     ]
    }
   ],
   "source": [
    "print(generators)\n",
    "del generators[0]\n",
    "print(generators)"
   ]
  },
  {
   "cell_type": "code",
   "execution_count": 25,
   "id": "b2b7b0f5-8a00-4930-a184-3093fd213bbc",
   "metadata": {},
   "outputs": [
    {
     "name": "stdout",
     "output_type": "stream",
     "text": [
      "['vae']\n",
      "diffusion\n",
      "My published paper is about diffusion!\n",
      "Do you kown that?\n"
     ]
    }
   ],
   "source": [
    "published_generator = generators.pop()\n",
    "print(generators)\n",
    "print(published_generator)\n",
    "print(f'My published paper is about {published_generator}!\\nDo you kown that?')  # pop 栈 弹出"
   ]
  },
  {
   "cell_type": "code",
   "execution_count": 26,
   "id": "7876cadf-6296-47fe-b4db-3dd0a22a1509",
   "metadata": {},
   "outputs": [
    {
     "name": "stdout",
     "output_type": "stream",
     "text": [
      "My published paper is about diffusion!\n",
      "Do you kown that?\n"
     ]
    }
   ],
   "source": [
    "generators = ['gan', 'vae', 'diffusion', 'flow']\n",
    "published_generator = generators.pop(2) \n",
    "print(f'My published paper is about {published_generator}!\\nDo you kown that?')   # 随意位置pop！"
   ]
  },
  {
   "cell_type": "code",
   "execution_count": 32,
   "id": "63936d0a-eeba-4231-a9dd-8da81ce8ae11",
   "metadata": {},
   "outputs": [
    {
     "name": "stdout",
     "output_type": "stream",
     "text": [
      "None\n",
      "['gan', 'vae', 'diffusion']\n"
     ]
    }
   ],
   "source": [
    "generators = ['gan', 'vae', 'diffusion', 'flow']\n",
    "generators.remove('flow')\n",
    "print(generators)"
   ]
  },
  {
   "cell_type": "code",
   "execution_count": 31,
   "id": "05f98e73-b99d-4d22-9617-0f69114e40be",
   "metadata": {},
   "outputs": [
    {
     "name": "stdout",
     "output_type": "stream",
     "text": [
      "Flow is unsuitable for this project!\n"
     ]
    }
   ],
   "source": [
    "generators = ['gan', 'vae', 'diffusion', 'flow']\n",
    "unsuitable_generator = 'flow'\n",
    "generators.remove(unsuitable_generator)\n",
    "print(f'{unsuitable_generator.title()} is unsuitable for this project!')"
   ]
  },
  {
   "cell_type": "code",
   "execution_count": 33,
   "id": "fd85f854-e09e-4c91-a785-26593bbe5222",
   "metadata": {},
   "outputs": [
    {
     "name": "stdout",
     "output_type": "stream",
     "text": [
      "['Li', 'Song', 'Wang']\n"
     ]
    }
   ],
   "source": [
    "ISIDM_digital_twins_exports = ['Wang','Li','Song']\n",
    "ISIDM_digital_twins_exports.sort()\n",
    "print(ISIDM_digital_twins_exports)"
   ]
  },
  {
   "cell_type": "code",
   "execution_count": 35,
   "id": "adbdcb65-996c-40e9-bb01-c761862597b9",
   "metadata": {},
   "outputs": [
    {
     "name": "stdout",
     "output_type": "stream",
     "text": [
      "Here is the original list:\n",
      "['Wang', 'Li', 'Song']\n",
      "\n",
      "Here is the sorted list:\n",
      "['Li', 'Song', 'Wang']\n",
      "\n",
      "Here is the original list again:\n",
      "['Wang', 'Li', 'Song']\n"
     ]
    }
   ],
   "source": [
    "ISIDM_digital_twins_exports = ['Wang','Li','Song']\n",
    "print('Here is the original list:')\n",
    "print(ISIDM_digital_twins_exports)\n",
    "print('\\nHere is the sorted list:')\n",
    "print(sorted(ISIDM_digital_twins_exports))\n",
    "print('\\nHere is the original list again:')\n",
    "print(ISIDM_digital_twins_exports)"
   ]
  },
  {
   "cell_type": "code",
   "execution_count": 39,
   "id": "46643ab1-048b-4d1e-8eac-0b38828c25cf",
   "metadata": {},
   "outputs": [
    {
     "data": {
      "text/plain": [
       "['Song', 'Li', 'Wang']"
      ]
     },
     "execution_count": 39,
     "metadata": {},
     "output_type": "execute_result"
    }
   ],
   "source": [
    "ISIDM_digital_twins_exports = ['Wang','Li','Song']\n",
    "ISIDM_digital_twins_exports.reverse()\n",
    "ISIDM_digital_twins_exports"
   ]
  },
  {
   "cell_type": "code",
   "execution_count": 41,
   "id": "db4bcda0-9b94-44da-ae57-d72cd515c539",
   "metadata": {},
   "outputs": [
    {
     "name": "stdout",
     "output_type": "stream",
     "text": [
      "There are 3 exports in digital twins field will present in ISIDM 2025 Beijing!\n"
     ]
    }
   ],
   "source": [
    "print(f'There are {len(ISIDM_digital_twins_exports)} exports in digital twins field will present in ISIDM 2025 Beijing!')  # 长度"
   ]
  },
  {
   "cell_type": "code",
   "execution_count": null,
   "id": "2324b545-428a-40b4-832b-e55670b705f1",
   "metadata": {},
   "outputs": [],
   "source": []
  }
 ],
 "metadata": {
  "kernelspec": {
   "display_name": "Python 3 (ipykernel)",
   "language": "python",
   "name": "python3"
  },
  "language_info": {
   "codemirror_mode": {
    "name": "ipython",
    "version": 3
   },
   "file_extension": ".py",
   "mimetype": "text/x-python",
   "name": "python",
   "nbconvert_exporter": "python",
   "pygments_lexer": "ipython3",
   "version": "3.9.21"
  }
 },
 "nbformat": 4,
 "nbformat_minor": 5
}
